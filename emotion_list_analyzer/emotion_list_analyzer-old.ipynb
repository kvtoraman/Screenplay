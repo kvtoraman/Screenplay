{
 "cells": [
  {
   "cell_type": "code",
   "execution_count": 11,
   "metadata": {
    "collapsed": false
   },
   "outputs": [
    {
     "name": "stdout",
     "output_type": "stream",
     "text": [
      " yelling\n",
      " to bianca; upset\n",
      " to sharon; as he leaves\n",
      " confused\n",
      " rotely\n",
      " grabbing his arm dramatically\n",
      " calling after patrick\n",
      " sarcastic\n",
      " smiles brightly\n",
      " calling after her\n",
      " emphatic\n",
      " grinning\n",
      " disappointed\n",
      " shouting\n",
      " yelling\n",
      " yelling\n",
      " yelling\n",
      " yelling\n",
      " yelling; gesturing toward the band\n",
      " yelling\n",
      " yelling\n",
      "21\n"
     ]
    }
   ],
   "source": [
    "def adverb_ending(emotion):\n",
    "    #print(repr(emotion))\n",
    "    last_word = emotion.split(' ')[-1]\n",
    "    #print(repr(last_word))\n",
    "    if last_word[0].islower() and emotion[-2:] == 'ly':\n",
    "        return True\n",
    "    return False\n",
    "#put a space to every keyword\n",
    "keywords = [' ' + x.strip() for x in open('emotions.txt','r').readlines() if x.strip()!=\"\"]\n",
    "count = 0\n",
    "f = open('All_out.txt',encoding='utf-8',errors='ignore') \n",
    "with open('all_output_proper.txt','w',encoding='utf-8') as out:\n",
    "    for line in f:\n",
    "        line = line.strip('\\n')\n",
    "        elems = line.split('\\t')\n",
    "        if len(elems) != 9 :\n",
    "            print(elems)\n",
    "            continue\n",
    "        if elems[0] == '' or elems[1] == '':\n",
    "            continue\n",
    "        if elems[6] != '' and elems[7] == '':\n",
    "            continue\n",
    "        if elems[4] != '' and elems[5] == '':\n",
    "            continue\n",
    "            \n",
    "        if '(' in elems[3]:\n",
    "            emotion = str(elems[3].split('(')[1].split(')')[0])\n",
    "            emotion = emotion.strip()\n",
    "            emotion = emotion.lower()\n",
    "            emotion = ' '+emotion\n",
    "            keep = False\n",
    "            for word in keywords:\n",
    "                if word in emotion:\n",
    "                    keep = True\n",
    "                    break\n",
    "            if adverb_ending(emotion):\n",
    "                keep = True\n",
    "            \n",
    "            if keep:\n",
    "                print(emotion)\n",
    "                label = elems[3].split('(')[1].split(')')[0]\n",
    "                elems[3] = elems[3].split('(')[0] + elems[3].split(')')[1]\n",
    "                elems.append(label)\n",
    "                line = '\\t'.join(elems)\n",
    "                out.write(line + '\\n')\n",
    "                count += 1\n",
    "                if count> 20:\n",
    "                    break\n",
    "                \n",
    "print(count)     \n",
    "            "
   ]
  },
  {
   "cell_type": "code",
   "execution_count": 1,
   "metadata": {
    "collapsed": true
   },
   "outputs": [
    {
     "name": "stdout",
     "output_type": "stream",
     "text": [
      "sadly\n",
      "goes cold\n",
      "realizing\n",
      "entering\n",
      "standing\n",
      "greatly relieved\n",
      "song\n",
      "wistful\n",
      "kindly\n",
      "thrilled but controlled\n",
      "shriek\n",
      "grins\n",
      "dramatic pause\n",
      "quietly\n",
      "defiantly\n",
      "glancing distractedly around\n",
      "tremulous\n",
      "pissy\n",
      "shamed\n",
      "excitedly\n",
      "angry\n",
      "non-responsive\n",
      "giggling\n",
      "enjoying\n",
      "concentrates\n",
      "mockingly\n",
      "jealous\n",
      "receptively\n",
      "hysterical\n",
      "laughs crazily\n",
      "weak smile\n",
      "hopefully\n",
      "proudly\n",
      "simultaneously\n",
      "freaked\n",
      "cool\n",
      "unpreturbed, almost cheerful\n",
      "rolling her eyes\n",
      "gently\n",
      "muffled\n",
      "sarcastically\n",
      "pleasantly surprised\n",
      "hopeful\n",
      "emphatic\n",
      "sincerely\n",
      "searching\n",
      "covers phone\n",
      "wooden\n",
      "genuine\n",
      "snide\n",
      "sheepishly\n",
      "condescending\n"
     ]
    }
   ],
   "source": [
    "keywords = [x.strip() for x in open('emotions.txt','r').readlines()]\n",
    "for word in keywords:\n",
    "    if word != \"\":\n",
    "        print(word)"
   ]
  },
  {
   "cell_type": "code",
   "execution_count": null,
   "metadata": {
    "collapsed": true
   },
   "outputs": [],
   "source": []
  }
 ],
 "metadata": {
  "kernelspec": {
   "display_name": "Python 3",
   "language": "python",
   "name": "python3"
  },
  "language_info": {
   "codemirror_mode": {
    "name": "ipython",
    "version": 3
   },
   "file_extension": ".py",
   "mimetype": "text/x-python",
   "name": "python",
   "nbconvert_exporter": "python",
   "pygments_lexer": "ipython3",
   "version": "3.6.1"
  }
 },
 "nbformat": 4,
 "nbformat_minor": 2
}
