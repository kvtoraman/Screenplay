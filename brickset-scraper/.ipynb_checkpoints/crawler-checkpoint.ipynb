{
 "cells": [
  {
   "cell_type": "code",
   "execution_count": 5,
   "metadata": {
    "collapsed": true
   },
   "outputs": [],
   "source": [
    "import scrapy\n",
    "\n",
    "class BrickSetSpider(scrapy.Spider):\n",
    "    name = \"brickset_spider\"\n",
    "    start_urls = ['http://brickset.com/sets/year-2016']\n",
    "\n",
    "    def parse(self, response):\n",
    "        SET_SELECTOR = '.set'\n",
    "        for brickset in response.css(SET_SELECTOR):\n",
    "\n",
    "            NAME_SELECTOR = 'h1 a ::text'\n",
    "            yield {\n",
    "                'name': brickset.css(NAME_SELECTOR).extract_first(),\n",
    "            }"
   ]
  },
  {
   "cell_type": "code",
   "execution_count": null,
   "metadata": {
    "collapsed": true
   },
   "outputs": [],
   "source": []
  }
 ],
 "metadata": {
  "kernelspec": {
   "display_name": "Python 3",
   "language": "python",
   "name": "python3"
  },
  "language_info": {
   "codemirror_mode": {
    "name": "ipython",
    "version": 3
   },
   "file_extension": ".py",
   "mimetype": "text/x-python",
   "name": "python",
   "nbconvert_exporter": "python",
   "pygments_lexer": "ipython3",
   "version": "3.6.1"
  }
 },
 "nbformat": 4,
 "nbformat_minor": 2
}
