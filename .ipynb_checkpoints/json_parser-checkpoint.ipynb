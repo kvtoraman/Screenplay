{
 "cells": [
  {
   "cell_type": "code",
   "execution_count": null,
   "metadata": {
    "collapsed": false
   },
   "outputs": [],
   "source": [
    "import json\n",
    "from bs4 import BeautifulSoup\n",
    "from nltk import word_tokenize\n",
    "from urllib import request\n",
    "from pprint import pprint\n",
    "\n",
    "with open('all_movies.json') as data_file:    \n",
    "    data = json.load(data_file)\n",
    "    \n",
    "with open('all_name_script.txt','w') as out:    \n",
    "    for movie in data:\n",
    "        url = movie['link'].replace(' ','%20')\n",
    "        name = movie['name'].replace('\\t',' ')\n",
    "        name = name.replace('Script','')\n",
    "\n",
    "        print(url)\n",
    "        html = request.urlopen(url).read().decode('utf8',errors='ignore')\n",
    "        soup = BeautifulSoup(html,'html.parser')\n",
    "        links_in_page = soup.find_all('a')\n",
    "        found = False\n",
    "        for link in links_in_page:\n",
    "            text = link.get_text()\n",
    "            if 'Read' in text and 'Script' in text:\n",
    "                found = True\n",
    "                continue\n",
    "                script_link = 'http://www.imsdb.com' + link.get('href')\n",
    "                print(name + '\\t' + script_link)\n",
    "                out.write(name + '\\t' + script_link + '\\n')\n",
    "        if Found == False:\n",
    "             print('NOTFOUND',name + '\\t' + script_link)"
   ]
  },
  {
   "cell_type": "code",
   "execution_count": null,
   "metadata": {
    "collapsed": true
   },
   "outputs": [],
   "source": []
  }
 ],
 "metadata": {
  "kernelspec": {
   "display_name": "Python 3",
   "language": "python",
   "name": "python3"
  },
  "language_info": {
   "codemirror_mode": {
    "name": "ipython",
    "version": 3
   },
   "file_extension": ".py",
   "mimetype": "text/x-python",
   "name": "python",
   "nbconvert_exporter": "python",
   "pygments_lexer": "ipython3",
   "version": "3.6.1"
  }
 },
 "nbformat": 4,
 "nbformat_minor": 2
}
